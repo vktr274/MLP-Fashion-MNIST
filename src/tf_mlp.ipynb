{
 "cells": [
  {
   "cell_type": "markdown",
   "metadata": {},
   "source": [
    "# MLP trained on the Fashion-MNIST dataset using Tensorflow"
   ]
  },
  {
   "cell_type": "code",
   "execution_count": 1,
   "metadata": {
    "tags": []
   },
   "outputs": [],
   "source": [
    "from tensorflow.keras.models import Sequential\n",
    "from tensorflow.keras.layers import Flatten, Dense, Dropout, Rescaling\n",
    "from tensorflow.keras.datasets import fashion_mnist\n",
    "from tensorflow.keras.optimizers.legacy import SGD\n",
    "from tensorflow.keras.losses import SparseCategoricalCrossentropy\n",
    "from tensorflow.keras.callbacks import TensorBoard, EarlyStopping\n",
    "\n",
    "from matplotlib import pyplot as plt\n",
    "import datetime\n",
    "\n",
    "%load_ext tensorboard"
   ]
  },
  {
   "cell_type": "markdown",
   "metadata": {},
   "source": [
    "## Load Fashion-MNIST"
   ]
  },
  {
   "cell_type": "code",
   "execution_count": 2,
   "metadata": {},
   "outputs": [],
   "source": [
    "(x_train, y_train), (x_test, y_test) = fashion_mnist.load_data()"
   ]
  },
  {
   "cell_type": "code",
   "execution_count": 3,
   "metadata": {},
   "outputs": [
    {
     "name": "stdout",
     "output_type": "stream",
     "text": [
      "(60000, 28, 28)\n",
      "(60000,)\n",
      "(10000, 28, 28)\n",
      "(10000,)\n"
     ]
    }
   ],
   "source": [
    "print(x_train.shape)\n",
    "print(y_train.shape)\n",
    "print(x_test.shape)\n",
    "print(y_test.shape)"
   ]
  },
  {
   "cell_type": "markdown",
   "metadata": {},
   "source": [
    "## Plot some examples"
   ]
  },
  {
   "cell_type": "code",
   "execution_count": 4,
   "metadata": {},
   "outputs": [
    {
     "data": {
      "image/png": "[encoded data removed]",
      "text/plain": [
       "<Figure size 640x480 with 9 Axes>"
      ]
     },
     "metadata": {},
     "output_type": "display_data"
    }
   ],
   "source": [
    "i = 0\n",
    "\n",
    "for picture in x_train[:9]:\n",
    "    plt.subplot(3, 3, i+1)\n",
    "    plt.imshow(picture, cmap='gray')\n",
    "    plt.axis('off')\n",
    "    i = i + 1\n",
    "\n",
    "plt.show()"
   ]
  },
  {
   "cell_type": "markdown",
   "metadata": {},
   "source": [
    "## Create MLP"
   ]
  },
  {
   "cell_type": "code",
   "execution_count": 5,
   "metadata": {},
   "outputs": [],
   "source": [
    "mlp = Sequential([\n",
    "    Rescaling(scale=1./255, input_shape=(28, 28)),\n",
    "    Flatten(),\n",
    "    \n",
    "    Dense(512, activation='relu'),\n",
    "    Dense(256, activation='relu'),\n",
    "    Dense(256, activation='relu'),\n",
    "    Dense(64, activation='relu'),\n",
    "    \n",
    "    Dense(10, activation='softmax')\n",
    "])"
   ]
  },
  {
   "cell_type": "markdown",
   "metadata": {},
   "source": [
    "## Compile model"
   ]
  },
  {
   "cell_type": "code",
   "execution_count": 6,
   "metadata": {},
   "outputs": [],
   "source": [
    "mlp.compile(\n",
    "    optimizer=SGD(learning_rate=0.001),\n",
    "    loss=SparseCategoricalCrossentropy(),\n",
    "    metrics=['accuracy']\n",
    ")"
   ]
  },
  {
   "cell_type": "markdown",
   "metadata": {},
   "source": [
    "## Define early stopping and TensorBoard callback"
   ]
  },
  {
   "cell_type": "code",
   "execution_count": 7,
   "metadata": {
    "scrolled": false
   },
   "outputs": [],
   "source": [
    "early_stopping = EarlyStopping(\n",
    "    monitor='val_loss', \n",
    "    mode='min', \n",
    "    verbose=1,\n",
    "    patience=5,\n",
    "    restore_best_weights=True\n",
    ")\n",
    "\n",
    "log_dir = \"../logs/fit/\" + datetime.datetime.now().strftime(\"%Y%m%d-%H%M%S\")\n",
    "tensorboard = TensorBoard(log_dir=log_dir, histogram_freq=1)"
   ]
  },
  {
   "cell_type": "markdown",
   "metadata": {},
   "source": [
    "## Train model"
   ]
  },
  {
   "cell_type": "code",
   "execution_count": 8,
   "metadata": {
    "scrolled": false
   },
   "outputs": [
    {
     "name": "stdout",
     "output_type": "stream",
     "text": [
      "Epoch 1/250\n",
      "375/375 [==============================] - 6s 15ms/step - loss: 2.1339 - accuracy: 0.3164 - val_loss: 1.9475 - val_accuracy: 0.5631\n",
      "Epoch 2/250\n",
      "375/375 [==============================] - 5s 14ms/step - loss: 1.7667 - accuracy: 0.6112 - val_loss: 1.5696 - val_accuracy: 0.6442\n",
      "Epoch 3/250\n",
      "375/375 [==============================] - 4s 11ms/step - loss: 1.4012 - accuracy: 0.6513 - val_loss: 1.2379 - val_accuracy: 0.6653\n",
      "Epoch 4/250\n",
      "375/375 [==============================] - 4s 11ms/step - loss: 1.1346 - accuracy: 0.6691 - val_loss: 1.0338 - val_accuracy: 0.6872\n",
      "Epoch 5/250\n",
      "375/375 [==============================] - 4s 11ms/step - loss: 0.9760 - accuracy: 0.6916 - val_loss: 0.9134 - val_accuracy: 0.7072\n",
      "Epoch 6/250\n",
      "375/375 [==============================] - 4s 12ms/step - loss: 0.8807 - accuracy: 0.7086 - val_loss: 0.8385 - val_accuracy: 0.7207\n",
      "Epoch 7/250\n",
      "375/375 [==============================] - 5s 15ms/step - loss: 0.8179 - accuracy: 0.7233 - val_loss: 0.7863 - val_accuracy: 0.7344\n",
      "Epoch 8/250\n",
      "375/375 [==============================] - 5s 13ms/step - loss: 0.7722 - accuracy: 0.7370 - val_loss: 0.7478 - val_accuracy: 0.7458\n",
      "Epoch 9/250\n",
      "375/375 [==============================] - 5s 13ms/step - loss: 0.7367 - accuracy: 0.7490 - val_loss: 0.7170 - val_accuracy: 0.7574\n",
      "Epoch 10/250\n",
      "375/375 [==============================] - 4s 11ms/step - loss: 0.7078 - accuracy: 0.7594 - val_loss: 0.6928 - val_accuracy: 0.7681\n",
      "Epoch 11/250\n",
      "375/375 [==============================] - 4s 11ms/step - loss: 0.6832 - accuracy: 0.7684 - val_loss: 0.6700 - val_accuracy: 0.7745\n",
      "Epoch 12/250\n",
      "375/375 [==============================] - 4s 11ms/step - loss: 0.6620 - accuracy: 0.7768 - val_loss: 0.6520 - val_accuracy: 0.7820\n",
      "Epoch 13/250\n",
      "375/375 [==============================] - 4s 11ms/step - loss: 0.6434 - accuracy: 0.7832 - val_loss: 0.6325 - val_accuracy: 0.7862\n",
      "Epoch 14/250\n",
      "375/375 [==============================] - 5s 12ms/step - loss: 0.6265 - accuracy: 0.7897 - val_loss: 0.6195 - val_accuracy: 0.7903\n",
      "Epoch 15/250\n",
      "375/375 [==============================] - 5s 13ms/step - loss: 0.6116 - accuracy: 0.7940 - val_loss: 0.6038 - val_accuracy: 0.7977\n",
      "Epoch 16/250\n",
      "375/375 [==============================] - 4s 12ms/step - loss: 0.5984 - accuracy: 0.7995 - val_loss: 0.5931 - val_accuracy: 0.8015\n",
      "Epoch 17/250\n",
      "375/375 [==============================] - 4s 12ms/step - loss: 0.5869 - accuracy: 0.8019 - val_loss: 0.5817 - val_accuracy: 0.8035\n",
      "Epoch 18/250\n",
      "375/375 [==============================] - 4s 11ms/step - loss: 0.5759 - accuracy: 0.8055 - val_loss: 0.5723 - val_accuracy: 0.8077\n",
      "Epoch 19/250\n",
      "375/375 [==============================] - 4s 11ms/step - loss: 0.5660 - accuracy: 0.8092 - val_loss: 0.5636 - val_accuracy: 0.8105\n",
      "Epoch 20/250\n",
      "375/375 [==============================] - 4s 11ms/step - loss: 0.5571 - accuracy: 0.8113 - val_loss: 0.5559 - val_accuracy: 0.8126\n",
      "Epoch 21/250\n",
      "375/375 [==============================] - 5s 13ms/step - loss: 0.5489 - accuracy: 0.8152 - val_loss: 0.5475 - val_accuracy: 0.8133\n",
      "Epoch 22/250\n",
      "375/375 [==============================] - 5s 13ms/step - loss: 0.5413 - accuracy: 0.8153 - val_loss: 0.5408 - val_accuracy: 0.8168\n",
      "Epoch 23/250\n",
      "375/375 [==============================] - 4s 12ms/step - loss: 0.5344 - accuracy: 0.8195 - val_loss: 0.5346 - val_accuracy: 0.8181\n",
      "Epoch 24/250\n",
      "375/375 [==============================] - 4s 11ms/step - loss: 0.5279 - accuracy: 0.8205 - val_loss: 0.5290 - val_accuracy: 0.8189\n",
      "Epoch 25/250\n",
      "375/375 [==============================] - 4s 11ms/step - loss: 0.5219 - accuracy: 0.8228 - val_loss: 0.5229 - val_accuracy: 0.8211\n",
      "Epoch 26/250\n",
      "375/375 [==============================] - 4s 12ms/step - loss: 0.5161 - accuracy: 0.8236 - val_loss: 0.5207 - val_accuracy: 0.8189\n",
      "Epoch 27/250\n",
      "375/375 [==============================] - 5s 12ms/step - loss: 0.5109 - accuracy: 0.8252 - val_loss: 0.5139 - val_accuracy: 0.8238\n",
      "Epoch 28/250\n",
      "375/375 [==============================] - 5s 12ms/step - loss: 0.5059 - accuracy: 0.8278 - val_loss: 0.5093 - val_accuracy: 0.8242\n",
      "Epoch 29/250\n",
      "375/375 [==============================] - 5s 14ms/step - loss: 0.5012 - accuracy: 0.8283 - val_loss: 0.5050 - val_accuracy: 0.8271\n",
      "Epoch 30/250\n",
      "375/375 [==============================] - 5s 13ms/step - loss: 0.4969 - accuracy: 0.8292 - val_loss: 0.5048 - val_accuracy: 0.8232\n",
      "Epoch 31/250\n",
      "375/375 [==============================] - 5s 14ms/step - loss: 0.4925 - accuracy: 0.8319 - val_loss: 0.4974 - val_accuracy: 0.8278\n",
      "Epoch 32/250\n",
      "375/375 [==============================] - 4s 12ms/step - loss: 0.4887 - accuracy: 0.8324 - val_loss: 0.4934 - val_accuracy: 0.8287\n",
      "Epoch 33/250\n",
      "375/375 [==============================] - 5s 12ms/step - loss: 0.4851 - accuracy: 0.8330 - val_loss: 0.4917 - val_accuracy: 0.8280\n",
      "Epoch 34/250\n",
      "375/375 [==============================] - 5s 12ms/step - loss: 0.4815 - accuracy: 0.8343 - val_loss: 0.4881 - val_accuracy: 0.8292\n",
      "Epoch 35/250\n",
      "375/375 [==============================] - 5s 13ms/step - loss: 0.4778 - accuracy: 0.8351 - val_loss: 0.4847 - val_accuracy: 0.8325\n",
      "Epoch 36/250\n",
      "375/375 [==============================] - 4s 12ms/step - loss: 0.4746 - accuracy: 0.8365 - val_loss: 0.4812 - val_accuracy: 0.8334\n",
      "Epoch 37/250\n",
      "375/375 [==============================] - 4s 11ms/step - loss: 0.4714 - accuracy: 0.8379 - val_loss: 0.4793 - val_accuracy: 0.8338\n",
      "Epoch 38/250\n",
      "375/375 [==============================] - 4s 12ms/step - loss: 0.4683 - accuracy: 0.8386 - val_loss: 0.4763 - val_accuracy: 0.8336\n",
      "Epoch 39/250\n",
      "375/375 [==============================] - 4s 11ms/step - loss: 0.4653 - accuracy: 0.8398 - val_loss: 0.4743 - val_accuracy: 0.8347\n",
      "Epoch 40/250\n",
      "375/375 [==============================] - 5s 12ms/step - loss: 0.4625 - accuracy: 0.8410 - val_loss: 0.4709 - val_accuracy: 0.8349\n",
      "Epoch 41/250\n",
      "375/375 [==============================] - 5s 13ms/step - loss: 0.4600 - accuracy: 0.8417 - val_loss: 0.4694 - val_accuracy: 0.8336\n",
      "Epoch 42/250\n",
      "375/375 [==============================] - 5s 14ms/step - loss: 0.4574 - accuracy: 0.8424 - val_loss: 0.4672 - val_accuracy: 0.8367\n",
      "Epoch 43/250\n",
      "375/375 [==============================] - 5s 13ms/step - loss: 0.4548 - accuracy: 0.8435 - val_loss: 0.4655 - val_accuracy: 0.8382\n",
      "Epoch 44/250\n",
      "375/375 [==============================] - 5s 14ms/step - loss: 0.4520 - accuracy: 0.8447 - val_loss: 0.4611 - val_accuracy: 0.8396\n",
      "Epoch 45/250\n",
      "375/375 [==============================] - 4s 12ms/step - loss: 0.4501 - accuracy: 0.8450 - val_loss: 0.4625 - val_accuracy: 0.8384\n",
      "Epoch 46/250\n",
      "375/375 [==============================] - 4s 11ms/step - loss: 0.4476 - accuracy: 0.8457 - val_loss: 0.4575 - val_accuracy: 0.8397\n",
      "Epoch 47/250\n",
      "375/375 [==============================] - 5s 12ms/step - loss: 0.4456 - accuracy: 0.8469 - val_loss: 0.4565 - val_accuracy: 0.8416\n",
      "Epoch 48/250\n",
      "375/375 [==============================] - 5s 12ms/step - loss: 0.4433 - accuracy: 0.8474 - val_loss: 0.4535 - val_accuracy: 0.8397\n",
      "Epoch 49/250\n",
      "375/375 [==============================] - 5s 12ms/step - loss: 0.4411 - accuracy: 0.8477 - val_loss: 0.4520 - val_accuracy: 0.8405\n",
      "Epoch 50/250\n",
      "375/375 [==============================] - 4s 12ms/step - loss: 0.4387 - accuracy: 0.8484 - val_loss: 0.4515 - val_accuracy: 0.8416\n",
      "Epoch 51/250\n",
      "375/375 [==============================] - 4s 10ms/step - loss: 0.4370 - accuracy: 0.8491 - val_loss: 0.4515 - val_accuracy: 0.8418\n",
      "Epoch 52/250\n",
      "375/375 [==============================] - 5s 12ms/step - loss: 0.4353 - accuracy: 0.8497 - val_loss: 0.4492 - val_accuracy: 0.8434\n",
      "Epoch 53/250\n",
      "375/375 [==============================] - 4s 11ms/step - loss: 0.4333 - accuracy: 0.8506 - val_loss: 0.4447 - val_accuracy: 0.8449\n",
      "Epoch 54/250\n",
      "375/375 [==============================] - 4s 11ms/step - loss: 0.4316 - accuracy: 0.8516 - val_loss: 0.4455 - val_accuracy: 0.8456\n",
      "Epoch 55/250\n",
      "375/375 [==============================] - 4s 11ms/step - loss: 0.4297 - accuracy: 0.8519 - val_loss: 0.4428 - val_accuracy: 0.8463\n",
      "Epoch 56/250\n",
      "375/375 [==============================] - 4s 12ms/step - loss: 0.4279 - accuracy: 0.8529 - val_loss: 0.4425 - val_accuracy: 0.8461\n",
      "Epoch 57/250\n"
     ]
    },
    {
     "name": "stdout",
     "output_type": "stream",
     "text": [
      "375/375 [==============================] - 5s 12ms/step - loss: 0.4263 - accuracy: 0.8526 - val_loss: 0.4403 - val_accuracy: 0.8449\n",
      "Epoch 58/250\n",
      "375/375 [==============================] - 4s 12ms/step - loss: 0.4244 - accuracy: 0.8534 - val_loss: 0.4372 - val_accuracy: 0.8478\n",
      "Epoch 59/250\n",
      "375/375 [==============================] - 4s 12ms/step - loss: 0.4232 - accuracy: 0.8543 - val_loss: 0.4354 - val_accuracy: 0.8492\n",
      "Epoch 60/250\n",
      "375/375 [==============================] - 4s 11ms/step - loss: 0.4214 - accuracy: 0.8534 - val_loss: 0.4343 - val_accuracy: 0.8470\n",
      "Epoch 61/250\n",
      "375/375 [==============================] - 4s 11ms/step - loss: 0.4199 - accuracy: 0.8537 - val_loss: 0.4351 - val_accuracy: 0.8479\n",
      "Epoch 62/250\n",
      "375/375 [==============================] - 4s 12ms/step - loss: 0.4181 - accuracy: 0.8550 - val_loss: 0.4323 - val_accuracy: 0.8507\n",
      "Epoch 63/250\n",
      "375/375 [==============================] - 4s 11ms/step - loss: 0.4164 - accuracy: 0.8562 - val_loss: 0.4357 - val_accuracy: 0.8468\n",
      "Epoch 64/250\n",
      "375/375 [==============================] - 4s 10ms/step - loss: 0.4152 - accuracy: 0.8559 - val_loss: 0.4326 - val_accuracy: 0.8474\n",
      "Epoch 65/250\n",
      "375/375 [==============================] - 4s 12ms/step - loss: 0.4138 - accuracy: 0.8570 - val_loss: 0.4303 - val_accuracy: 0.8507\n",
      "Epoch 66/250\n",
      "375/375 [==============================] - 4s 12ms/step - loss: 0.4122 - accuracy: 0.8578 - val_loss: 0.4267 - val_accuracy: 0.8500\n",
      "Epoch 67/250\n",
      "375/375 [==============================] - 4s 12ms/step - loss: 0.4110 - accuracy: 0.8583 - val_loss: 0.4257 - val_accuracy: 0.8527\n",
      "Epoch 68/250\n",
      "375/375 [==============================] - 4s 12ms/step - loss: 0.4094 - accuracy: 0.8581 - val_loss: 0.4265 - val_accuracy: 0.8543\n",
      "Epoch 69/250\n",
      "375/375 [==============================] - 4s 11ms/step - loss: 0.4082 - accuracy: 0.8583 - val_loss: 0.4235 - val_accuracy: 0.8528\n",
      "Epoch 70/250\n",
      "375/375 [==============================] - 4s 12ms/step - loss: 0.4065 - accuracy: 0.8594 - val_loss: 0.4233 - val_accuracy: 0.8546\n",
      "Epoch 71/250\n",
      "375/375 [==============================] - 4s 11ms/step - loss: 0.4054 - accuracy: 0.8604 - val_loss: 0.4219 - val_accuracy: 0.8562\n",
      "Epoch 72/250\n",
      "375/375 [==============================] - 4s 10ms/step - loss: 0.4042 - accuracy: 0.8599 - val_loss: 0.4219 - val_accuracy: 0.8516\n",
      "Epoch 73/250\n",
      "375/375 [==============================] - 4s 11ms/step - loss: 0.4030 - accuracy: 0.8608 - val_loss: 0.4200 - val_accuracy: 0.8540\n",
      "Epoch 74/250\n",
      "375/375 [==============================] - 4s 12ms/step - loss: 0.4019 - accuracy: 0.8612 - val_loss: 0.4177 - val_accuracy: 0.8553\n",
      "Epoch 75/250\n",
      "375/375 [==============================] - 5s 14ms/step - loss: 0.4000 - accuracy: 0.8615 - val_loss: 0.4182 - val_accuracy: 0.8558\n",
      "Epoch 76/250\n",
      "375/375 [==============================] - 5s 14ms/step - loss: 0.3991 - accuracy: 0.8618 - val_loss: 0.4164 - val_accuracy: 0.8582\n",
      "Epoch 77/250\n",
      "375/375 [==============================] - 4s 11ms/step - loss: 0.3979 - accuracy: 0.8627 - val_loss: 0.4158 - val_accuracy: 0.8573\n",
      "Epoch 78/250\n",
      "375/375 [==============================] - 4s 10ms/step - loss: 0.3969 - accuracy: 0.8627 - val_loss: 0.4144 - val_accuracy: 0.8577\n",
      "Epoch 79/250\n",
      "375/375 [==============================] - 4s 12ms/step - loss: 0.3953 - accuracy: 0.8633 - val_loss: 0.4191 - val_accuracy: 0.8536\n",
      "Epoch 80/250\n",
      "375/375 [==============================] - 5s 13ms/step - loss: 0.3940 - accuracy: 0.8643 - val_loss: 0.4123 - val_accuracy: 0.8569\n",
      "Epoch 81/250\n",
      "375/375 [==============================] - 4s 12ms/step - loss: 0.3931 - accuracy: 0.8636 - val_loss: 0.4119 - val_accuracy: 0.8571\n",
      "Epoch 82/250\n",
      "375/375 [==============================] - 4s 12ms/step - loss: 0.3919 - accuracy: 0.8651 - val_loss: 0.4099 - val_accuracy: 0.8586\n",
      "Epoch 83/250\n",
      "375/375 [==============================] - 5s 13ms/step - loss: 0.3906 - accuracy: 0.8652 - val_loss: 0.4125 - val_accuracy: 0.8560\n",
      "Epoch 84/250\n",
      "375/375 [==============================] - 6s 16ms/step - loss: 0.3897 - accuracy: 0.8644 - val_loss: 0.4101 - val_accuracy: 0.8562\n",
      "Epoch 85/250\n",
      "375/375 [==============================] - 5s 13ms/step - loss: 0.3886 - accuracy: 0.8655 - val_loss: 0.4066 - val_accuracy: 0.8608\n",
      "Epoch 86/250\n",
      "375/375 [==============================] - 5s 13ms/step - loss: 0.3876 - accuracy: 0.8663 - val_loss: 0.4071 - val_accuracy: 0.8613\n",
      "Epoch 87/250\n",
      "375/375 [==============================] - 5s 13ms/step - loss: 0.3865 - accuracy: 0.8657 - val_loss: 0.4077 - val_accuracy: 0.8575\n",
      "Epoch 88/250\n",
      "375/375 [==============================] - 5s 15ms/step - loss: 0.3855 - accuracy: 0.8659 - val_loss: 0.4044 - val_accuracy: 0.8602\n",
      "Epoch 89/250\n",
      "375/375 [==============================] - 5s 13ms/step - loss: 0.3837 - accuracy: 0.8670 - val_loss: 0.4035 - val_accuracy: 0.8608\n",
      "Epoch 90/250\n",
      "375/375 [==============================] - 5s 12ms/step - loss: 0.3834 - accuracy: 0.8668 - val_loss: 0.4029 - val_accuracy: 0.8622\n",
      "Epoch 91/250\n",
      "375/375 [==============================] - 5s 14ms/step - loss: 0.3823 - accuracy: 0.8675 - val_loss: 0.4015 - val_accuracy: 0.8627\n",
      "Epoch 92/250\n",
      "375/375 [==============================] - 5s 12ms/step - loss: 0.3816 - accuracy: 0.8680 - val_loss: 0.4001 - val_accuracy: 0.8618\n",
      "Epoch 93/250\n",
      "375/375 [==============================] - 5s 12ms/step - loss: 0.3804 - accuracy: 0.8681 - val_loss: 0.4005 - val_accuracy: 0.8627\n",
      "Epoch 94/250\n",
      "375/375 [==============================] - 5s 14ms/step - loss: 0.3792 - accuracy: 0.8691 - val_loss: 0.3999 - val_accuracy: 0.8629\n",
      "Epoch 95/250\n",
      "375/375 [==============================] - 5s 14ms/step - loss: 0.3787 - accuracy: 0.8686 - val_loss: 0.3979 - val_accuracy: 0.8625\n",
      "Epoch 96/250\n",
      "375/375 [==============================] - 5s 13ms/step - loss: 0.3771 - accuracy: 0.8686 - val_loss: 0.3992 - val_accuracy: 0.8614\n",
      "Epoch 97/250\n",
      "375/375 [==============================] - 5s 12ms/step - loss: 0.3763 - accuracy: 0.8701 - val_loss: 0.3989 - val_accuracy: 0.8602\n",
      "Epoch 98/250\n",
      "375/375 [==============================] - 5s 12ms/step - loss: 0.3751 - accuracy: 0.8693 - val_loss: 0.3986 - val_accuracy: 0.8643\n",
      "Epoch 99/250\n",
      "375/375 [==============================] - 5s 13ms/step - loss: 0.3746 - accuracy: 0.8700 - val_loss: 0.3949 - val_accuracy: 0.8639\n",
      "Epoch 100/250\n",
      "375/375 [==============================] - 5s 14ms/step - loss: 0.3733 - accuracy: 0.8708 - val_loss: 0.3975 - val_accuracy: 0.8618\n",
      "Epoch 101/250\n",
      "375/375 [==============================] - 5s 14ms/step - loss: 0.3727 - accuracy: 0.8706 - val_loss: 0.3937 - val_accuracy: 0.8651\n",
      "Epoch 102/250\n",
      "375/375 [==============================] - 5s 13ms/step - loss: 0.3720 - accuracy: 0.8713 - val_loss: 0.3933 - val_accuracy: 0.8653\n",
      "Epoch 103/250\n",
      "375/375 [==============================] - 5s 13ms/step - loss: 0.3707 - accuracy: 0.8714 - val_loss: 0.3943 - val_accuracy: 0.8632\n",
      "Epoch 104/250\n",
      "375/375 [==============================] - 5s 14ms/step - loss: 0.3699 - accuracy: 0.8715 - val_loss: 0.3944 - val_accuracy: 0.8647\n",
      "Epoch 105/250\n",
      "375/375 [==============================] - 5s 13ms/step - loss: 0.3696 - accuracy: 0.8715 - val_loss: 0.3906 - val_accuracy: 0.8657\n",
      "Epoch 106/250\n",
      "375/375 [==============================] - 5s 14ms/step - loss: 0.3684 - accuracy: 0.8718 - val_loss: 0.3905 - val_accuracy: 0.8663\n",
      "Epoch 107/250\n",
      "375/375 [==============================] - 5s 14ms/step - loss: 0.3671 - accuracy: 0.8732 - val_loss: 0.3899 - val_accuracy: 0.8652\n",
      "Epoch 108/250\n",
      "375/375 [==============================] - 5s 12ms/step - loss: 0.3666 - accuracy: 0.8723 - val_loss: 0.3917 - val_accuracy: 0.8644\n",
      "Epoch 109/250\n",
      "375/375 [==============================] - 4s 12ms/step - loss: 0.3656 - accuracy: 0.8730 - val_loss: 0.3885 - val_accuracy: 0.8662\n",
      "Epoch 110/250\n",
      "375/375 [==============================] - 4s 12ms/step - loss: 0.3647 - accuracy: 0.8736 - val_loss: 0.3900 - val_accuracy: 0.8640\n",
      "Epoch 111/250\n",
      "375/375 [==============================] - 4s 12ms/step - loss: 0.3641 - accuracy: 0.8732 - val_loss: 0.3873 - val_accuracy: 0.8670\n",
      "Epoch 112/250\n",
      "375/375 [==============================] - 5s 12ms/step - loss: 0.3631 - accuracy: 0.8736 - val_loss: 0.3894 - val_accuracy: 0.8662\n",
      "Epoch 113/250\n"
     ]
    },
    {
     "name": "stdout",
     "output_type": "stream",
     "text": [
      "375/375 [==============================] - 5s 14ms/step - loss: 0.3622 - accuracy: 0.8740 - val_loss: 0.3867 - val_accuracy: 0.8676\n",
      "Epoch 114/250\n",
      "375/375 [==============================] - 5s 12ms/step - loss: 0.3620 - accuracy: 0.8748 - val_loss: 0.3879 - val_accuracy: 0.8659\n",
      "Epoch 115/250\n",
      "375/375 [==============================] - 4s 12ms/step - loss: 0.3604 - accuracy: 0.8747 - val_loss: 0.3862 - val_accuracy: 0.8658\n",
      "Epoch 116/250\n",
      "375/375 [==============================] - 5s 12ms/step - loss: 0.3597 - accuracy: 0.8756 - val_loss: 0.3857 - val_accuracy: 0.8669\n",
      "Epoch 117/250\n",
      "375/375 [==============================] - 5s 12ms/step - loss: 0.3589 - accuracy: 0.8754 - val_loss: 0.3842 - val_accuracy: 0.8684\n",
      "Epoch 118/250\n",
      "375/375 [==============================] - 5s 12ms/step - loss: 0.3581 - accuracy: 0.8760 - val_loss: 0.3828 - val_accuracy: 0.8685\n",
      "Epoch 119/250\n",
      "375/375 [==============================] - 5s 14ms/step - loss: 0.3574 - accuracy: 0.8755 - val_loss: 0.3832 - val_accuracy: 0.8684\n",
      "Epoch 120/250\n",
      "375/375 [==============================] - 5s 14ms/step - loss: 0.3567 - accuracy: 0.8762 - val_loss: 0.3825 - val_accuracy: 0.8677\n",
      "Epoch 121/250\n",
      "375/375 [==============================] - 5s 13ms/step - loss: 0.3561 - accuracy: 0.8768 - val_loss: 0.3830 - val_accuracy: 0.8668\n",
      "Epoch 122/250\n",
      "375/375 [==============================] - 6s 15ms/step - loss: 0.3551 - accuracy: 0.8761 - val_loss: 0.3976 - val_accuracy: 0.8599\n",
      "Epoch 123/250\n",
      "375/375 [==============================] - 5s 13ms/step - loss: 0.3546 - accuracy: 0.8771 - val_loss: 0.3802 - val_accuracy: 0.8681\n",
      "Epoch 124/250\n",
      "375/375 [==============================] - 5s 14ms/step - loss: 0.3535 - accuracy: 0.8777 - val_loss: 0.3822 - val_accuracy: 0.8688\n",
      "Epoch 125/250\n",
      "375/375 [==============================] - 7s 18ms/step - loss: 0.3531 - accuracy: 0.8779 - val_loss: 0.3809 - val_accuracy: 0.8698\n",
      "Epoch 126/250\n",
      "375/375 [==============================] - 5s 12ms/step - loss: 0.3520 - accuracy: 0.8777 - val_loss: 0.3808 - val_accuracy: 0.8689\n",
      "Epoch 127/250\n",
      "375/375 [==============================] - 5s 12ms/step - loss: 0.3512 - accuracy: 0.8777 - val_loss: 0.3795 - val_accuracy: 0.8679\n",
      "Epoch 128/250\n",
      "375/375 [==============================] - 5s 13ms/step - loss: 0.3510 - accuracy: 0.8783 - val_loss: 0.3794 - val_accuracy: 0.8697\n",
      "Epoch 129/250\n",
      "375/375 [==============================] - 5s 15ms/step - loss: 0.3501 - accuracy: 0.8777 - val_loss: 0.3807 - val_accuracy: 0.8671\n",
      "Epoch 130/250\n",
      "375/375 [==============================] - 5s 14ms/step - loss: 0.3492 - accuracy: 0.8781 - val_loss: 0.3776 - val_accuracy: 0.8701\n",
      "Epoch 131/250\n",
      "375/375 [==============================] - 5s 14ms/step - loss: 0.3481 - accuracy: 0.8792 - val_loss: 0.3813 - val_accuracy: 0.8699\n",
      "Epoch 132/250\n",
      "375/375 [==============================] - 5s 13ms/step - loss: 0.3477 - accuracy: 0.8788 - val_loss: 0.3776 - val_accuracy: 0.8692\n",
      "Epoch 133/250\n",
      "375/375 [==============================] - 5s 14ms/step - loss: 0.3468 - accuracy: 0.8800 - val_loss: 0.3746 - val_accuracy: 0.8709\n",
      "Epoch 134/250\n",
      "375/375 [==============================] - 5s 12ms/step - loss: 0.3466 - accuracy: 0.8794 - val_loss: 0.3763 - val_accuracy: 0.8686\n",
      "Epoch 135/250\n",
      "375/375 [==============================] - 5s 12ms/step - loss: 0.3461 - accuracy: 0.8800 - val_loss: 0.3757 - val_accuracy: 0.8685\n",
      "Epoch 136/250\n",
      "375/375 [==============================] - 5s 14ms/step - loss: 0.3450 - accuracy: 0.8795 - val_loss: 0.3781 - val_accuracy: 0.8692\n",
      "Epoch 137/250\n",
      "375/375 [==============================] - 5s 15ms/step - loss: 0.3444 - accuracy: 0.8802 - val_loss: 0.3800 - val_accuracy: 0.8696\n",
      "Epoch 138/250\n",
      "375/375 [==============================] - 5s 13ms/step - loss: 0.3438 - accuracy: 0.8796 - val_loss: 0.3736 - val_accuracy: 0.8691\n",
      "Epoch 139/250\n",
      "375/375 [==============================] - 5s 13ms/step - loss: 0.3428 - accuracy: 0.8805 - val_loss: 0.3720 - val_accuracy: 0.8704\n",
      "Epoch 140/250\n",
      "375/375 [==============================] - 5s 13ms/step - loss: 0.3423 - accuracy: 0.8802 - val_loss: 0.3717 - val_accuracy: 0.8710\n",
      "Epoch 141/250\n",
      "375/375 [==============================] - 5s 13ms/step - loss: 0.3415 - accuracy: 0.8816 - val_loss: 0.3736 - val_accuracy: 0.8697\n",
      "Epoch 142/250\n",
      "375/375 [==============================] - 5s 14ms/step - loss: 0.3407 - accuracy: 0.8814 - val_loss: 0.3815 - val_accuracy: 0.8684\n",
      "Epoch 143/250\n",
      "375/375 [==============================] - 6s 16ms/step - loss: 0.3401 - accuracy: 0.8805 - val_loss: 0.3736 - val_accuracy: 0.8711\n",
      "Epoch 144/250\n",
      "375/375 [==============================] - 6s 15ms/step - loss: 0.3392 - accuracy: 0.8814 - val_loss: 0.3766 - val_accuracy: 0.8684\n",
      "Epoch 145/250\n",
      "375/375 [==============================] - 4s 11ms/step - loss: 0.3393 - accuracy: 0.8811 - val_loss: 0.3716 - val_accuracy: 0.8699\n",
      "Epoch 146/250\n",
      "375/375 [==============================] - 4s 11ms/step - loss: 0.3380 - accuracy: 0.8821 - val_loss: 0.3738 - val_accuracy: 0.8691\n",
      "Epoch 147/250\n",
      "375/375 [==============================] - 6s 15ms/step - loss: 0.3377 - accuracy: 0.8831 - val_loss: 0.3732 - val_accuracy: 0.8708\n",
      "Epoch 148/250\n",
      "375/375 [==============================] - 5s 14ms/step - loss: 0.3369 - accuracy: 0.8827 - val_loss: 0.3689 - val_accuracy: 0.8723\n",
      "Epoch 149/250\n",
      "375/375 [==============================] - 5s 13ms/step - loss: 0.3356 - accuracy: 0.8824 - val_loss: 0.3669 - val_accuracy: 0.8733\n",
      "Epoch 150/250\n",
      "375/375 [==============================] - 4s 12ms/step - loss: 0.3356 - accuracy: 0.8831 - val_loss: 0.3680 - val_accuracy: 0.8725\n",
      "Epoch 151/250\n",
      "375/375 [==============================] - 4s 12ms/step - loss: 0.3350 - accuracy: 0.8830 - val_loss: 0.3662 - val_accuracy: 0.8733\n",
      "Epoch 152/250\n",
      "375/375 [==============================] - 4s 12ms/step - loss: 0.3340 - accuracy: 0.8832 - val_loss: 0.3724 - val_accuracy: 0.8711\n",
      "Epoch 153/250\n",
      "375/375 [==============================] - 5s 12ms/step - loss: 0.3336 - accuracy: 0.8838 - val_loss: 0.3658 - val_accuracy: 0.8726\n",
      "Epoch 154/250\n",
      "375/375 [==============================] - 5s 13ms/step - loss: 0.3326 - accuracy: 0.8843 - val_loss: 0.3659 - val_accuracy: 0.8736\n",
      "Epoch 155/250\n",
      "375/375 [==============================] - 6s 15ms/step - loss: 0.3324 - accuracy: 0.8846 - val_loss: 0.3679 - val_accuracy: 0.8728\n",
      "Epoch 156/250\n",
      "375/375 [==============================] - 5s 13ms/step - loss: 0.3316 - accuracy: 0.8845 - val_loss: 0.3669 - val_accuracy: 0.8739\n",
      "Epoch 157/250\n",
      "375/375 [==============================] - 5s 13ms/step - loss: 0.3307 - accuracy: 0.8837 - val_loss: 0.3661 - val_accuracy: 0.8719\n",
      "Epoch 158/250\n",
      "375/375 [==============================] - 5s 13ms/step - loss: 0.3307 - accuracy: 0.8842 - val_loss: 0.3652 - val_accuracy: 0.8723\n",
      "Epoch 159/250\n",
      "375/375 [==============================] - 5s 13ms/step - loss: 0.3298 - accuracy: 0.8855 - val_loss: 0.3676 - val_accuracy: 0.8723\n",
      "Epoch 160/250\n",
      "375/375 [==============================] - 5s 13ms/step - loss: 0.3290 - accuracy: 0.8845 - val_loss: 0.3676 - val_accuracy: 0.8731\n",
      "Epoch 161/250\n",
      "375/375 [==============================] - 6s 17ms/step - loss: 0.3285 - accuracy: 0.8849 - val_loss: 0.3634 - val_accuracy: 0.8737\n",
      "Epoch 162/250\n",
      "375/375 [==============================] - 5s 13ms/step - loss: 0.3279 - accuracy: 0.8859 - val_loss: 0.3636 - val_accuracy: 0.8740\n",
      "Epoch 163/250\n",
      "375/375 [==============================] - 5s 13ms/step - loss: 0.3277 - accuracy: 0.8850 - val_loss: 0.3622 - val_accuracy: 0.8741\n",
      "Epoch 164/250\n",
      "375/375 [==============================] - 5s 12ms/step - loss: 0.3262 - accuracy: 0.8857 - val_loss: 0.3624 - val_accuracy: 0.8743\n",
      "Epoch 165/250\n",
      "375/375 [==============================] - 5s 13ms/step - loss: 0.3258 - accuracy: 0.8863 - val_loss: 0.3617 - val_accuracy: 0.8740\n",
      "Epoch 166/250\n",
      "375/375 [==============================] - 5s 13ms/step - loss: 0.3256 - accuracy: 0.8863 - val_loss: 0.3636 - val_accuracy: 0.8738\n",
      "Epoch 167/250\n",
      "375/375 [==============================] - 6s 16ms/step - loss: 0.3247 - accuracy: 0.8878 - val_loss: 0.3610 - val_accuracy: 0.8742\n",
      "Epoch 168/250\n",
      "375/375 [==============================] - 5s 14ms/step - loss: 0.3240 - accuracy: 0.8875 - val_loss: 0.3605 - val_accuracy: 0.8748\n",
      "Epoch 169/250\n"
     ]
    },
    {
     "name": "stdout",
     "output_type": "stream",
     "text": [
      "375/375 [==============================] - 5s 13ms/step - loss: 0.3239 - accuracy: 0.8865 - val_loss: 0.3607 - val_accuracy: 0.8748\n",
      "Epoch 170/250\n",
      "375/375 [==============================] - 5s 12ms/step - loss: 0.3236 - accuracy: 0.8862 - val_loss: 0.3594 - val_accuracy: 0.8763\n",
      "Epoch 171/250\n",
      "375/375 [==============================] - 5s 13ms/step - loss: 0.3224 - accuracy: 0.8876 - val_loss: 0.3608 - val_accuracy: 0.8760\n",
      "Epoch 172/250\n",
      "375/375 [==============================] - 5s 13ms/step - loss: 0.3222 - accuracy: 0.8872 - val_loss: 0.3653 - val_accuracy: 0.8718\n",
      "Epoch 173/250\n",
      "375/375 [==============================] - 6s 17ms/step - loss: 0.3212 - accuracy: 0.8871 - val_loss: 0.3589 - val_accuracy: 0.8767\n",
      "Epoch 174/250\n",
      "375/375 [==============================] - 7s 17ms/step - loss: 0.3201 - accuracy: 0.8874 - val_loss: 0.3589 - val_accuracy: 0.8767\n",
      "Epoch 175/250\n",
      "375/375 [==============================] - 6s 15ms/step - loss: 0.3204 - accuracy: 0.8868 - val_loss: 0.3575 - val_accuracy: 0.8757\n",
      "Epoch 176/250\n",
      "375/375 [==============================] - 5s 14ms/step - loss: 0.3191 - accuracy: 0.8880 - val_loss: 0.3596 - val_accuracy: 0.8755\n",
      "Epoch 177/250\n",
      "375/375 [==============================] - 5s 12ms/step - loss: 0.3192 - accuracy: 0.8892 - val_loss: 0.3576 - val_accuracy: 0.8762\n",
      "Epoch 178/250\n",
      "375/375 [==============================] - 5s 14ms/step - loss: 0.3184 - accuracy: 0.8884 - val_loss: 0.3569 - val_accuracy: 0.8765\n",
      "Epoch 179/250\n",
      "375/375 [==============================] - 5s 13ms/step - loss: 0.3180 - accuracy: 0.8882 - val_loss: 0.3684 - val_accuracy: 0.8706\n",
      "Epoch 180/250\n",
      "375/375 [==============================] - 5s 13ms/step - loss: 0.3176 - accuracy: 0.8883 - val_loss: 0.3563 - val_accuracy: 0.8767\n",
      "Epoch 181/250\n",
      "375/375 [==============================] - 5s 12ms/step - loss: 0.3166 - accuracy: 0.8887 - val_loss: 0.3628 - val_accuracy: 0.8750\n",
      "Epoch 182/250\n",
      "375/375 [==============================] - 4s 12ms/step - loss: 0.3163 - accuracy: 0.8888 - val_loss: 0.3586 - val_accuracy: 0.8755\n",
      "Epoch 183/250\n",
      "375/375 [==============================] - 5s 12ms/step - loss: 0.3150 - accuracy: 0.8897 - val_loss: 0.3571 - val_accuracy: 0.8763\n",
      "Epoch 184/250\n",
      "375/375 [==============================] - 5s 14ms/step - loss: 0.3154 - accuracy: 0.8899 - val_loss: 0.3542 - val_accuracy: 0.8763\n",
      "Epoch 185/250\n",
      "375/375 [==============================] - 5s 13ms/step - loss: 0.3147 - accuracy: 0.8901 - val_loss: 0.3673 - val_accuracy: 0.8700\n",
      "Epoch 186/250\n",
      "375/375 [==============================] - 4s 12ms/step - loss: 0.3140 - accuracy: 0.8899 - val_loss: 0.3544 - val_accuracy: 0.8772\n",
      "Epoch 187/250\n",
      "375/375 [==============================] - 4s 12ms/step - loss: 0.3134 - accuracy: 0.8910 - val_loss: 0.3592 - val_accuracy: 0.8745\n",
      "Epoch 188/250\n",
      "375/375 [==============================] - 5s 13ms/step - loss: 0.3126 - accuracy: 0.8910 - val_loss: 0.3554 - val_accuracy: 0.8768\n",
      "Epoch 189/250\n",
      "372/375 [============================>.] - ETA: 0s - loss: 0.3125 - accuracy: 0.8905Restoring model weights from the end of the best epoch: 184.\n",
      "375/375 [==============================] - 5s 12ms/step - loss: 0.3124 - accuracy: 0.8906 - val_loss: 0.3546 - val_accuracy: 0.8779\n",
      "Epoch 189: early stopping\n"
     ]
    }
   ],
   "source": [
    "history = mlp.fit(\n",
    "    x_train,\n",
    "    y_train,\n",
    "    epochs=250,\n",
    "    validation_split=0.2,\n",
    "    batch_size=128,\n",
    "    shuffle=True,\n",
    "    callbacks=[tensorboard, early_stopping]\n",
    ")"
   ]
  },
  {
   "cell_type": "code",
   "execution_count": 9,
   "metadata": {},
   "outputs": [
    {
     "data": {
      "image/png": "[encoded data removed]",
      "text/plain": [
       "<Figure size 640x480 with 1 Axes>"
      ]
     },
     "metadata": {},
     "output_type": "display_data"
    },
    {
     "data": {
      "image/png": "[encoded data removed]",
      "text/plain": [
       "<Figure size 640x480 with 1 Axes>"
      ]
     },
     "metadata": {},
     "output_type": "display_data"
    }
   ],
   "source": [
    "plt.plot(history.history['accuracy'], label='accuracy')\n",
    "plt.plot(history.history['val_accuracy'], label='val_accuracy')\n",
    "plt.legend()\n",
    "plt.show()\n",
    "\n",
    "plt.plot(history.history['loss'], label='loss')\n",
    "plt.plot(history.history['val_loss'], label='val_loss')\n",
    "plt.legend()\n",
    "plt.show()"
   ]
  },
  {
   "cell_type": "markdown",
   "metadata": {},
   "source": [
    "## Evaluate model"
   ]
  },
  {
   "cell_type": "code",
   "execution_count": 10,
   "metadata": {},
   "outputs": [
    {
     "name": "stdout",
     "output_type": "stream",
     "text": [
      "313/313 [==============================] - 1s 4ms/step - loss: 0.3768 - accuracy: 0.8665\n"
     ]
    },
    {
     "data": {
      "text/plain": [
       "[0.3767729699611664, 0.8665000200271606]"
      ]
     },
     "execution_count": 10,
     "metadata": {},
     "output_type": "execute_result"
    }
   ],
   "source": [
    "mlp.evaluate(x_test, y_test)"
   ]
  }
 ],
 "metadata": {
  "kernelspec": {
   "display_name": "Python 3 (ipykernel)",
   "language": "python",
   "name": "python3"
  },
  "language_info": {
   "codemirror_mode": {
    "name": "ipython",
    "version": 3
   },
   "file_extension": ".py",
   "mimetype": "text/x-python",
   "name": "python",
   "nbconvert_exporter": "python",
   "pygments_lexer": "ipython3",
   "version": "3.7.9"
  },
  "vscode": {
   "interpreter": {
    "hash": "069ff1ac9968be6ceec7f161329ea8b349dc553564d013597b22b6af03447576"
   }
  }
 },
 "nbformat": 4,
 "nbformat_minor": 2
}
