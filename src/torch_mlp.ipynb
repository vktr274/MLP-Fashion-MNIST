{
 "cells": [
  {
   "cell_type": "markdown",
   "id": "89a349c6",
   "metadata": {},
   "source": [
    "# MLP trained on the Fashion-MNIST dataset using PyTorch"
   ]
  },
  {
   "cell_type": "code",
   "execution_count": 19,
   "id": "46a5e0ff",
   "metadata": {},
   "outputs": [],
   "source": [
    "from torch.nn import Sequential\n",
    "from torch.nn import Flatten, Linear, CrossEntropyLoss, ReLU, Softmax\n",
    "from torch.optim import SGD\n",
    "from torchvision.datasets import FashionMNIST\n",
    "\n",
    "from matplotlib import pyplot as plt"
   ]
  },
  {
   "cell_type": "markdown",
   "id": "11400418",
   "metadata": {},
   "source": [
    "## Load dataset"
   ]
  },
  {
   "cell_type": "code",
   "execution_count": 14,
   "id": "5ac33d19",
   "metadata": {},
   "outputs": [
    {
     "name": "stdout",
     "output_type": "stream",
     "text": [
      "60000\n",
      "10000\n"
     ]
    }
   ],
   "source": [
    "train = FashionMNIST(root='../data', download=True)\n",
    "test = FashionMNIST(root='../data', download=True, train=False)\n",
    "\n",
    "print(len(train))\n",
    "print(len(test))"
   ]
  },
  {
   "cell_type": "markdown",
   "id": "afcc4bc3",
   "metadata": {},
   "source": [
    "## Create model"
   ]
  },
  {
   "cell_type": "code",
   "execution_count": 20,
   "id": "89f28899",
   "metadata": {},
   "outputs": [],
   "source": [
    "mlp = Sequential(\n",
    "    Flatten(),\n",
    "    Linear(28 * 28, 128),\n",
    "    ReLU(),\n",
    "    Linear(128, 128),\n",
    "    ReLU(),\n",
    "    Linear(128, 10),\n",
    "    Softmax()\n",
    ")\n",
    "\n",
    "optimizer = SGD(mlp.parameters(), lr=0.001)\n",
    "loss = CrossEntropyLoss()"
   ]
  },
  {
   "cell_type": "markdown",
   "id": "cc76a7e6",
   "metadata": {},
   "source": [
    "TODO: Implement fit function for training"
   ]
  },
  {
   "cell_type": "code",
   "execution_count": null,
   "id": "0b877ab1",
   "metadata": {},
   "outputs": [],
   "source": [
    "def fit():\n",
    "    pass"
   ]
  }
 ],
 "metadata": {
  "kernelspec": {
   "display_name": "Python 3 (ipykernel)",
   "language": "python",
   "name": "python3"
  },
  "language_info": {
   "codemirror_mode": {
    "name": "ipython",
    "version": 3
   },
   "file_extension": ".py",
   "mimetype": "text/x-python",
   "name": "python",
   "nbconvert_exporter": "python",
   "pygments_lexer": "ipython3",
   "version": "3.7.9"
  }
 },
 "nbformat": 4,
 "nbformat_minor": 5
}
